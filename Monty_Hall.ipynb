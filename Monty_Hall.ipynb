{
 "cells": [
  {
   "cell_type": "code",
   "execution_count": 683,
   "metadata": {},
   "outputs": [],
   "source": [
    "import numpy as np\n",
    "import pandas as pd"
   ]
  },
  {
   "cell_type": "code",
   "execution_count": 732,
   "metadata": {},
   "outputs": [],
   "source": [
    "n = 1000"
   ]
  },
  {
   "cell_type": "code",
   "execution_count": 740,
   "metadata": {},
   "outputs": [],
   "source": [
    "puerta_auto = []\n",
    "puerta_elegida = []\n",
    "puerta_conductor = []\n",
    "puerta_cambio = []\n",
    "puerta_random = []\n",
    "\n",
    "for i in range(n):\n",
    "    puertas = [0,1,2]\n",
    "    puerta_auto.append(np.random.randint(3))\n",
    "    puerta_elegida.append(np.random.randint(3))\n",
    "    puertas.remove(puerta_elegida[i])\n",
    "    if puerta_auto[i] in puertas:\n",
    "        puertas.remove(puerta_auto[i])\n",
    "        puerta_conductor.append(puertas[0])\n",
    "    else:\n",
    "        puerta_conductor.append(puertas[np.random.randint(2)])\n",
    "    puertas = [0,1,2]\n",
    "    puertas.remove(puerta_conductor[i])\n",
    "    puerta_random.append((puertas[np.random.randint(2)]))\n",
    "    puertas.remove(puerta_elegida[i])\n",
    "    puerta_cambio.append(puertas[0])\n"
   ]
  },
  {
   "cell_type": "code",
   "execution_count": 741,
   "metadata": {},
   "outputs": [],
   "source": [
    "aciertos_no_cambiar = 0\n",
    "aciertos_cambiar = 0\n",
    "aciertos_aleat = 0\n",
    "for i in range(n):\n",
    "    if puerta_auto[i] == puerta_elegida[i]:\n",
    "        aciertos_no_cambiar += 1\n",
    "    if puerta_auto[i] == puerta_cambio[i]:\n",
    "        aciertos_cambiar += 1\n",
    "    if puerta_auto[i] == puerta_random[i]:\n",
    "        aciertos_aleat +=1"
   ]
  },
  {
   "cell_type": "code",
   "execution_count": 744,
   "metadata": {},
   "outputs": [
    {
     "data": {
      "text/plain": [
       "(639, 361, 513)"
      ]
     },
     "execution_count": 744,
     "metadata": {},
     "output_type": "execute_result"
    }
   ],
   "source": [
    "aciertos_cambiar, aciertos_no_cambiar, aciertos_aleat"
   ]
  },
  {
   "cell_type": "code",
   "execution_count": null,
   "metadata": {},
   "outputs": [],
   "source": []
  }
 ],
 "metadata": {
  "kernelspec": {
   "display_name": "Python 3",
   "language": "python",
   "name": "python3"
  },
  "language_info": {
   "codemirror_mode": {
    "name": "ipython",
    "version": 3
   },
   "file_extension": ".py",
   "mimetype": "text/x-python",
   "name": "python",
   "nbconvert_exporter": "python",
   "pygments_lexer": "ipython3",
   "version": "3.6.10"
  }
 },
 "nbformat": 4,
 "nbformat_minor": 2
}
